{
 "cells": [
  {
   "cell_type": "markdown",
   "metadata": {},
   "source": [
    "# CAPSTONE PROJECT DATA SCIENCE REPORT"
   ]
  },
  {
   "cell_type": "markdown",
   "metadata": {},
   "source": [
    "## 1. Introduction"
   ]
  },
  {
   "cell_type": "markdown",
   "metadata": {},
   "source": [
    "### 1.1 Business Problem"
   ]
  },
  {
   "cell_type": "markdown",
   "metadata": {},
   "source": [
    "<p style='text-align: justify;'>Thousands of people dream of starting and owning a successful restaurant. In almost every case, the path to entrepreneurial success starts with choosing the right location for the new restaurant. Where the restaurant is located can be just as import to success as the menu, marketing and customer reviews. “In the brick-and-mortar retail world, it is said that the three most important decisions are location, location and location,” affirms Irene Dickey, a lecturer in management and marketing at the University of Dayton’s School of Business. The restaurant expert Lorri Mealy explains that one reason restaurants fail is a poor choice in location. Therefore, an optimal location has a disproportionate effect on new restaurants  that are not established yet with a core of loyal customers and can give the restaurant another pushes toward success.</p>\n",
    "\n",
    "<p style='text-align: justify;'>London is one of world’s most important global cities and exerts a considerable impact upon the arts, commerce, education, entertainment, finance, media, tourism etc. London is considered to be the most multicultural city in the world, and this is reflected onto the different cuisines on offer. The purpose of this project is to use Data Science and Machine Learning approach to find an optimal restaurant location in London. </p>\n",
    "\n",
    "<p style='text-align: justify;'>The first step of opening a new restaurant is to define the concept of the restaurant and common market targets. According to the google map results, there are currently only 5 Uyghur Restaurant in Greater London, but four of which are located in the outskirts of London. Therefore, there is a significant market gap in London City Center. Therefore, this Data Science project will focus on finding an optimal location for a new Uyghur Restaurant (hereafter referred to as the ‘New Restaurant’) in London. </p>\n",
    "\n",
    "<p style='text-align: justify;'>Common market targets include business professionals, urban hipster, families with children, sports enthusiasts, culture aficionados and fast-food customers. In addition, each area/location has different demographic makeup, consists of the workers and residents in the vicinity  and tourists. Due to the characteristics of Uyghur food being fast to prepare, unique, common market targets is defined to be business professionals, families with children, culture aficionados and fast-food customers. In terms of ethnic group, Uyghur cuisine reflects the cooking styles of many ethnic groups of the Xinjiang region in China and is regarded one of the most popular cuisine among Chinese. The Uyghur food is predominantly halal. Therefore, in addition to Chinese workers, residents and tourists, Muslim population and tourists can be potential customer of the New Restaurant.</p> \n",
    "\n",
    "<p style='text-align: justify;'>Next step is to  identify the minimum target market population the New Restaurant will need using two formula below. The Minimum target market population is calculated by daily restaurant capacity multiplied by days of a month. The daily restaurant capacity can be calculated by the desired seating capacity and number of seating. </p>\n",
    "\n",
    "_**Minimum target market population = daily restaurant capacity x days of a month**_\n",
    "\n",
    "_**Daily restaurant capacity = desired seating capacity x number of seatings**_ \n",
    "\n",
    "\n",
    "<p style='text-align: justify;'>It is assumed that the New Restaurant can accommodate 40 people at once (desired seating capacity) and the number of  seating is 3. According to the formula above, the daily restaurant capacity is 120. The maximum days of a month is 31. Therefore, minimum target market population is calculated using 120 multiplying with 31, which equals to 3720. This means, the minimum target market population is 3720. Ideally, the new restaurant should be located in communities that have a high density of the target market and beyond the minimum target market population (3720).</p>"
   ]
  },
  {
   "cell_type": "markdown",
   "metadata": {},
   "source": [
    "While choosing an optimal restaurant location, the following factors needs to be considered :\n",
    "<p style='text-align: justify;'>1. Accessibility: When looking at a restaurant location, the amount or accessibility of nearby parking, ease of access by car, foot traffic and surrounding traffic patterns should be taken into consideration to make it as easy as possible for customer to visit the new restaurant. The target locations should acquire enough traffic to fill tables organically, without any help from digital marketing or promotional efforts. </p>\n",
    "\n",
    "<p style='text-align: justify;'>2. Visibility: Making the New Restaurant or restaurant sigh visible to the public is like free advertising. It reminds the passers-by that a restaurant exists, and they should stop by for dinner sometime. </p>\n",
    "\n",
    "<p style='text-align: justify;'>3. Target Demographics: A target demographic is a specific grouping of consumers that you market your products toward. Demographics are defined by specific characteristics such as age, gender or income level. A combination of all these factors creates the best demographic picture to help determine how a certain location would affect the New Restaurant. For each potential space, the following aspects will be considered:</p>"
   ]
  },
  {
   "cell_type": "markdown",
   "metadata": {},
   "source": [
    "* Is this location suitable for my concept?\n",
    "* What is the population of this area?\n",
    "* How many customers can I expect?\n",
    "* Is there enough expandable income in this area to support my restaurant?\n",
    "* What is the average age of people who live in this area?\n",
    "* What is the average household income of people who live in this area?\n",
    "* What is the ethnic breakdown of this neighbourhood? \n",
    "\n",
    "<p style='text-align: justify;'>4. Safety/Crime Rates: Extra insurance, exterior lighting and loss of customers due to safety concerns can spell disaster for the success of a new restaurant. Hence, it is critical to recognise and address the issues of safety and crime rates early on. </p>\n",
    "<p style='text-align: justify;'>5. Complimentary Businesses: By “complementary businesses”, it is referred to the neighbouring businesses that could share their market with the New Restaurant but aren’t competition. The activities of complementary businesses actually drive diners to the New Restaurant. Simply being in close proximity to them can increase the foot traffic. Complementary businesses include but aren’t limited to stadiums, theatres, business districts, transportation hubs, and malls. For example, Office buildings can bring hungry professionals to the New Restaurant for lunch. Restaurant near the train stations can attract commuters. In the vicinity of Theatres and stadiums, restaurants can capture attendees pre-and-post performance or a big game.</p>\n",
    "<p style='text-align: justify;'>6. Direct and Indirect Competitors: When choosing a location, it is prudent to make sure that the market is not over-saturated. Some competition is healthy, but if there are multiple restaurants with the same cuisine and concept as the New Restaurant, we need to look for another location. In addition, it is important to make sure that businesses nearby are thriving. This indicates that there’s an appetite for consumption. Furthermore, identifying gap is one of the key points for a successful restaurant. If there’s a way we can refine the New Restaurant concept based on a market gap, the odds of success heighten.</p>"
   ]
  },
  {
   "cell_type": "markdown",
   "metadata": {},
   "source": [
    "## 1.2 Analytic Approach\n",
    "<p style='text-align: justify;'>In this project, we will use Data Science and Machine Learning methods to locate the target neighbourhood and analyse each target neighbourhood and list top 5 optimal locations for a new Uyghur Restaurant in London. </p>\n",
    "\n",
    "<p style='text-align: justify;'>As there is a number of factors which need to be considered while deciding, clustering method will be used to reduce the scale of the data and narrow down the targeted locations. Clustering is an unsupervised machine learning algorithm. It can group data based on the similarity to each other and partition the data into mutually exclusive groups. Neighbourhood/ Areas segmentation will partition a city or countries into groups of areas that have similar characteristics. It is a significant strategy, as it allows the business to narrow down the targeted locations while choosing the optimal location . In addition, clustering is also an effective analytical approach to deriving segments and groups from large datasets. For instance, the target market population can be grouped based on age, gender, income, ethnic groups etc. </p>\n"
   ]
  },
  {
   "cell_type": "markdown",
   "metadata": {},
   "source": [
    "# 2 Data Description\n",
    "<p style='text-align: justify;'>Two kinds of data are required for this project: location data and demographic data in each borough or neighbourhood. I collected demographic data of all Boroughs in Greater London from the following website:</p>\n",
    "\n",
    "* https://www.doogal.co.uk/london_postcodes.php \n",
    "* https://data.london.gov.uk/dataset/postcode-directory-for-london \n",
    "* https://en.wikipedia.org/wiki/Ethnic_groups_in_London\n",
    "* https://data.london.gov.uk/dataset?q= \n",
    "\n",
    "<p style='text-align: justify;'>The demographic data include ethnic groups by borough, postcodes, latitude and longitude, average income, nearest station and distance to the nearest station, city zone, borough name  and country name of each postcode area. In addition, I also collected population, age structure, population density, employment rate, crime rate per thousand population of each London boroughs. </p>\n",
    "\n",
    "<p style='text-align: justify;'>Location data is data describing places and venues such as their geographical location in form of geographical coordinates (latitude and longitude value), their category, nearby venues etc. For this Data Science project, I will use the Foursquare location dataset. Foursquare is a technology company that built a massive dataset of accurate location data. It powers location data for Apple Maps, Uber, Snapchat, Twitter and many others. I will use the Foursquare location data segment Greater London and group the London Boroughs/Neighbourhoods into clusters to narrow down the targeted areas and get deeper insights into a neighbourhood’s characteristics. Furthermore, the Foursquare location data also helps us to locate the New Restaurant near to complimentary businesses and to the areas with great accessibility and visibility. Moreover, the Foursquare location data also can be used to carry out the competitive analysis to find out whether the market is oversaturated or to identify the market gap.</p>\n",
    " \n"
   ]
  }
 ],
 "metadata": {
  "kernelspec": {
   "display_name": "Python",
   "language": "python",
   "name": "conda-env-python-py"
  },
  "language_info": {
   "codemirror_mode": {
    "name": "ipython",
    "version": 3
   },
   "file_extension": ".py",
   "mimetype": "text/x-python",
   "name": "python",
   "nbconvert_exporter": "python",
   "pygments_lexer": "ipython3",
   "version": "3.6.11"
  }
 },
 "nbformat": 4,
 "nbformat_minor": 4
}
